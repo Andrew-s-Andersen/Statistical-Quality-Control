{
  "nbformat": 4,
  "nbformat_minor": 0,
  "metadata": {
    "colab": {
      "provenance": [],
      "authorship_tag": "ABX9TyPb1+yeneAS0rXfv6ItCW5x",
      "include_colab_link": true
    },
    "kernelspec": {
      "name": "python3",
      "display_name": "Python 3"
    },
    "language_info": {
      "name": "python"
    }
  },
  "cells": [
    {
      "cell_type": "markdown",
      "metadata": {
        "id": "view-in-github",
        "colab_type": "text"
      },
      "source": [
        "<a href=\"https://colab.research.google.com/github/Andrew-s-Andersen/Statistical-Quality-Control/blob/main/SQC_Lab2.ipynb\" target=\"_parent\"><img src=\"https://colab.research.google.com/assets/colab-badge.svg\" alt=\"Open In Colab\"/></a>"
      ]
    },
    {
      "cell_type": "code",
      "execution_count": 7,
      "metadata": {
        "colab": {
          "base_uri": "https://localhost:8080/",
          "height": 92
        },
        "id": "af5s7Stbip-d",
        "outputId": "6fffc1d8-7da0-4368-8c61-d4497cf7d4be"
      },
      "outputs": [
        {
          "output_type": "display_data",
          "data": {
            "text/plain": [
              "<IPython.core.display.HTML object>"
            ],
            "text/html": [
              "\n",
              "     <input type=\"file\" id=\"files-3436eb55-2032-4eb8-8c8d-c3b849c634ba\" name=\"files[]\" multiple disabled\n",
              "        style=\"border:none\" />\n",
              "     <output id=\"result-3436eb55-2032-4eb8-8c8d-c3b849c634ba\">\n",
              "      Upload widget is only available when the cell has been executed in the\n",
              "      current browser session. Please rerun this cell to enable.\n",
              "      </output>\n",
              "      <script>// Copyright 2017 Google LLC\n",
              "//\n",
              "// Licensed under the Apache License, Version 2.0 (the \"License\");\n",
              "// you may not use this file except in compliance with the License.\n",
              "// You may obtain a copy of the License at\n",
              "//\n",
              "//      http://www.apache.org/licenses/LICENSE-2.0\n",
              "//\n",
              "// Unless required by applicable law or agreed to in writing, software\n",
              "// distributed under the License is distributed on an \"AS IS\" BASIS,\n",
              "// WITHOUT WARRANTIES OR CONDITIONS OF ANY KIND, either express or implied.\n",
              "// See the License for the specific language governing permissions and\n",
              "// limitations under the License.\n",
              "\n",
              "/**\n",
              " * @fileoverview Helpers for google.colab Python module.\n",
              " */\n",
              "(function(scope) {\n",
              "function span(text, styleAttributes = {}) {\n",
              "  const element = document.createElement('span');\n",
              "  element.textContent = text;\n",
              "  for (const key of Object.keys(styleAttributes)) {\n",
              "    element.style[key] = styleAttributes[key];\n",
              "  }\n",
              "  return element;\n",
              "}\n",
              "\n",
              "// Max number of bytes which will be uploaded at a time.\n",
              "const MAX_PAYLOAD_SIZE = 100 * 1024;\n",
              "\n",
              "function _uploadFiles(inputId, outputId) {\n",
              "  const steps = uploadFilesStep(inputId, outputId);\n",
              "  const outputElement = document.getElementById(outputId);\n",
              "  // Cache steps on the outputElement to make it available for the next call\n",
              "  // to uploadFilesContinue from Python.\n",
              "  outputElement.steps = steps;\n",
              "\n",
              "  return _uploadFilesContinue(outputId);\n",
              "}\n",
              "\n",
              "// This is roughly an async generator (not supported in the browser yet),\n",
              "// where there are multiple asynchronous steps and the Python side is going\n",
              "// to poll for completion of each step.\n",
              "// This uses a Promise to block the python side on completion of each step,\n",
              "// then passes the result of the previous step as the input to the next step.\n",
              "function _uploadFilesContinue(outputId) {\n",
              "  const outputElement = document.getElementById(outputId);\n",
              "  const steps = outputElement.steps;\n",
              "\n",
              "  const next = steps.next(outputElement.lastPromiseValue);\n",
              "  return Promise.resolve(next.value.promise).then((value) => {\n",
              "    // Cache the last promise value to make it available to the next\n",
              "    // step of the generator.\n",
              "    outputElement.lastPromiseValue = value;\n",
              "    return next.value.response;\n",
              "  });\n",
              "}\n",
              "\n",
              "/**\n",
              " * Generator function which is called between each async step of the upload\n",
              " * process.\n",
              " * @param {string} inputId Element ID of the input file picker element.\n",
              " * @param {string} outputId Element ID of the output display.\n",
              " * @return {!Iterable<!Object>} Iterable of next steps.\n",
              " */\n",
              "function* uploadFilesStep(inputId, outputId) {\n",
              "  const inputElement = document.getElementById(inputId);\n",
              "  inputElement.disabled = false;\n",
              "\n",
              "  const outputElement = document.getElementById(outputId);\n",
              "  outputElement.innerHTML = '';\n",
              "\n",
              "  const pickedPromise = new Promise((resolve) => {\n",
              "    inputElement.addEventListener('change', (e) => {\n",
              "      resolve(e.target.files);\n",
              "    });\n",
              "  });\n",
              "\n",
              "  const cancel = document.createElement('button');\n",
              "  inputElement.parentElement.appendChild(cancel);\n",
              "  cancel.textContent = 'Cancel upload';\n",
              "  const cancelPromise = new Promise((resolve) => {\n",
              "    cancel.onclick = () => {\n",
              "      resolve(null);\n",
              "    };\n",
              "  });\n",
              "\n",
              "  // Wait for the user to pick the files.\n",
              "  const files = yield {\n",
              "    promise: Promise.race([pickedPromise, cancelPromise]),\n",
              "    response: {\n",
              "      action: 'starting',\n",
              "    }\n",
              "  };\n",
              "\n",
              "  cancel.remove();\n",
              "\n",
              "  // Disable the input element since further picks are not allowed.\n",
              "  inputElement.disabled = true;\n",
              "\n",
              "  if (!files) {\n",
              "    return {\n",
              "      response: {\n",
              "        action: 'complete',\n",
              "      }\n",
              "    };\n",
              "  }\n",
              "\n",
              "  for (const file of files) {\n",
              "    const li = document.createElement('li');\n",
              "    li.append(span(file.name, {fontWeight: 'bold'}));\n",
              "    li.append(span(\n",
              "        `(${file.type || 'n/a'}) - ${file.size} bytes, ` +\n",
              "        `last modified: ${\n",
              "            file.lastModifiedDate ? file.lastModifiedDate.toLocaleDateString() :\n",
              "                                    'n/a'} - `));\n",
              "    const percent = span('0% done');\n",
              "    li.appendChild(percent);\n",
              "\n",
              "    outputElement.appendChild(li);\n",
              "\n",
              "    const fileDataPromise = new Promise((resolve) => {\n",
              "      const reader = new FileReader();\n",
              "      reader.onload = (e) => {\n",
              "        resolve(e.target.result);\n",
              "      };\n",
              "      reader.readAsArrayBuffer(file);\n",
              "    });\n",
              "    // Wait for the data to be ready.\n",
              "    let fileData = yield {\n",
              "      promise: fileDataPromise,\n",
              "      response: {\n",
              "        action: 'continue',\n",
              "      }\n",
              "    };\n",
              "\n",
              "    // Use a chunked sending to avoid message size limits. See b/62115660.\n",
              "    let position = 0;\n",
              "    do {\n",
              "      const length = Math.min(fileData.byteLength - position, MAX_PAYLOAD_SIZE);\n",
              "      const chunk = new Uint8Array(fileData, position, length);\n",
              "      position += length;\n",
              "\n",
              "      const base64 = btoa(String.fromCharCode.apply(null, chunk));\n",
              "      yield {\n",
              "        response: {\n",
              "          action: 'append',\n",
              "          file: file.name,\n",
              "          data: base64,\n",
              "        },\n",
              "      };\n",
              "\n",
              "      let percentDone = fileData.byteLength === 0 ?\n",
              "          100 :\n",
              "          Math.round((position / fileData.byteLength) * 100);\n",
              "      percent.textContent = `${percentDone}% done`;\n",
              "\n",
              "    } while (position < fileData.byteLength);\n",
              "  }\n",
              "\n",
              "  // All done.\n",
              "  yield {\n",
              "    response: {\n",
              "      action: 'complete',\n",
              "    }\n",
              "  };\n",
              "}\n",
              "\n",
              "scope.google = scope.google || {};\n",
              "scope.google.colab = scope.google.colab || {};\n",
              "scope.google.colab._files = {\n",
              "  _uploadFiles,\n",
              "  _uploadFilesContinue,\n",
              "};\n",
              "})(self);\n",
              "</script> "
            ]
          },
          "metadata": {}
        },
        {
          "output_type": "stream",
          "name": "stdout",
          "text": [
            "Saving BUSHING DIAMETER 2 BATCHES.csv to BUSHING DIAMETER 2 BATCHES (2).csv\n",
            "User Uploaded File \"BUSHING DIAMETER 2 BATCHES.csv\" with length 1127 bytes\n"
          ]
        }
      ],
      "source": [
        "from google.colab import files\n",
        "\n",
        "uploaded = files.upload()\n",
        "\n",
        "for fn in uploaded.keys():\n",
        "  print('User Uploaded File \"{name}\" with length {length} bytes'.format(\n",
        "      name = fn, length = len(uploaded[fn])))\n",
        "  "
      ]
    },
    {
      "cell_type": "code",
      "source": [
        "batches = [1.001,1.005,1.015,1.02,1.01,1.015,1,1.01,0.999,1.01,.996,1,1.004,.995,1.006,.985,1.01,1,.995,1,1,.999,1.014,1.009,1.005,1.025,1.004,1.004,.999,1,1.014,1.009,.994,1.009,.999,1.004,1.009,.989,1.003,1.009,.996,.996,1,\n",
        "     1.001,1.001,1.001,.995,1,1.01,.994,1,1.005,1.015,1.005,.99,1.005,1.015,1,1.005,.99,.997,1,1.002,1.001,1.006,1.005,1.01,1.015,1,1,1.015,.995,1.005,1.01,1.01,1.006,.999,1.006,1.005,1.001,1.007,.995,1.007,.999,1.01,.991,.996,1.006,1.019,1.006,1.005,1.005,1.001,1.002,1.017,.999,.993,1.001,1.016,.99]\n",
        "\n",
        "n = len(batches)\n",
        "  \n",
        "get_sum = sum(batches)\n",
        "mean = get_sum / n\n",
        "print(\"Mean: \" +str(mean))\n"
      ],
      "metadata": {
        "colab": {
          "base_uri": "https://localhost:8080/"
        },
        "id": "LPymUhCwA0vU",
        "outputId": "c89cff4d-9559-4007-e4ed-4953d985c4ec"
      },
      "execution_count": 57,
      "outputs": [
        {
          "output_type": "stream",
          "name": "stdout",
          "text": [
            "Mean: 1.0035100000000001\n"
          ]
        }
      ]
    },
    {
      "cell_type": "code",
      "source": [
        "batches = [1.001,1.005,1.015,1.02,1.01,1.015,1,1.01,0.999,1.01,.996,1,1.004,.995,1.006,.985,1.01,1,.995,1,1,.999,1.014,1.009,1.005,1.025,1.004,1.004,.999,1,1.014,1.009,.994,1.009,.999,1.004,1.009,.989,1.003,1.009,.996,.996,1,\n",
        "     1.001,1.001,1.001,.995,1,1.01,.994,1,1.005,1.015,1.005,.99,1.005,1.015,1,1.005,.99,.997,1,1.002,1.001,1.006,1.005,1.01,1.015,1,1,1.015,.995,1.005,1.01,1.01,1.006,.999,1.006,1.005,1.001,1.007,.995,1.007,.999,1.01,.991,.996,1.006,1.019,1.006,1.005,1.005,1.001,1.002,1.017,.999,.993,1.001,1.016,.99]\n",
        "\n",
        "n = len(batches)\n",
        "batches.sort()\n",
        "  \n",
        "if n % 2 == 0:\n",
        "    median1 = batches[n//2]\n",
        "    median2 = batches[n//2 - 1]\n",
        "    median = (median1 + median2)/2\n",
        "else:\n",
        "    median = batches[n//2]\n",
        "print(\"Median: \" + str(median))"
      ],
      "metadata": {
        "colab": {
          "base_uri": "https://localhost:8080/"
        },
        "id": "w38UJ64mCYxe",
        "outputId": "d0089e4f-f35d-4aa4-e40a-b4773d5c04f4"
      },
      "execution_count": 58,
      "outputs": [
        {
          "output_type": "stream",
          "name": "stdout",
          "text": [
            "Median: 1.0034999999999998\n"
          ]
        }
      ]
    },
    {
      "cell_type": "code",
      "source": [
        "batches = [1.001,1.005,1.015,1.02,1.01,1.015,1,1.01,0.999,1.01,.996,1,1.004,.995,1.006,.985,1.01,1,.995,1,1,.999,1.014,1.009,1.005,1.025,1.004,1.004,.999,1,1.014,1.009,.994,1.009,.999,1.004,1.009,.989,1.003,1.009,.996,.996,1,\n",
        "     1.001,1.001,1.001,.995,1,1.01,.994,1,1.005,1.015,1.005,.99,1.005,1.015,1,1.005,.99,.997,1,1.002,1.001,1.006,1.005,1.01,1.015,1,1,1.015,.995,1.005,1.01,1.01,1.006,.999,1.006,1.005,1.001,1.007,.995,1.007,.999,1.01,.991,.996,1.006,1.019,1.006,1.005,1.005,1.001,1.002,1.017,.999,.993,1.001,1.016,.99]\n"
      ],
      "metadata": {
        "id": "nTnt_BWKC7Dv"
      },
      "execution_count": null,
      "outputs": []
    },
    {
      "cell_type": "code",
      "source": [
        "import pandas as pd \n",
        "data1 = pd.read_csv('BUSHING DIAMETER 2 BATCHES.csv', sep = ';', na_values = \".\")\n",
        "data1"
      ],
      "metadata": {
        "colab": {
          "base_uri": "https://localhost:8080/",
          "height": 1000
        },
        "id": "KyAI161xj6cH",
        "outputId": "94f02c3b-e037-453f-8d69-c8444b2e4891"
      },
      "execution_count": 45,
      "outputs": [
        {
          "output_type": "execute_result",
          "data": {
            "text/plain": [
              "            Batch 1,Batch 2\n",
              "0             1.001000047,1\n",
              "1   1.004999995,1.004999995\n",
              "2   1.014999986,1.014999986\n",
              "3   1.019999981,1.004999995\n",
              "4     1.00999999,0.99000001\n",
              "5   1.014999986,1.004999995\n",
              "6             1,1.014999986\n",
              "7              1.00999999,1\n",
              "8   0.999000013,1.004999995\n",
              "9     1.00999999,0.99000001\n",
              "10  0.995999992,0.996999979\n",
              "11                      1,1\n",
              "12  1.003999949,1.001999974\n",
              "13  0.995000005,1.001000047\n",
              "14  1.006000042,1.006000042\n",
              "15  0.985000014,1.004999995\n",
              "16    1.00999999,1.00999999\n",
              "17            1,1.014999986\n",
              "18            0.995000005,1\n",
              "19                      1,1\n",
              "20            1,1.014999986\n",
              "21  0.999000013,0.995000005\n",
              "22  1.014000058,1.004999995\n",
              "23   1.008999944,1.00999999\n",
              "24   1.004999995,1.00999999\n",
              "25  1.024999976,1.006000042\n",
              "26  1.003999949,0.999000013\n",
              "27  1.003999949,1.006000042\n",
              "28  0.999000013,1.004999995\n",
              "29            1,1.001000047\n",
              "30  1.014000058,1.006999969\n",
              "31  1.008999944,0.995000005\n",
              "32  0.994000018,1.006999969\n",
              "33  1.008999944,0.999000013\n",
              "34   0.999000013,1.00999999\n",
              "35  1.003999949,0.990999997\n",
              "36  1.008999944,0.995999992\n",
              "37  0.989000022,1.006000042\n",
              "38  1.003000021,1.019000053\n",
              "39  1.008999944,1.006000042\n",
              "40  0.995999992,1.004999995\n",
              "41  0.995999992,1.004999995\n",
              "42            1,1.001000047\n",
              "43  1.001000047,1.001999974\n",
              "44   1.001000047,1.01699996\n",
              "45  1.001000047,0.999000013\n",
              "46  0.995000005,0.992999971\n",
              "47            1,1.001000047\n",
              "48   1.00999999,1.016000032\n",
              "49   0.994000018,0.99000001"
            ],
            "text/html": [
              "\n",
              "  <div id=\"df-82cbd25c-ecd3-4691-98db-0a0c30ab2eab\">\n",
              "    <div class=\"colab-df-container\">\n",
              "      <div>\n",
              "<style scoped>\n",
              "    .dataframe tbody tr th:only-of-type {\n",
              "        vertical-align: middle;\n",
              "    }\n",
              "\n",
              "    .dataframe tbody tr th {\n",
              "        vertical-align: top;\n",
              "    }\n",
              "\n",
              "    .dataframe thead th {\n",
              "        text-align: right;\n",
              "    }\n",
              "</style>\n",
              "<table border=\"1\" class=\"dataframe\">\n",
              "  <thead>\n",
              "    <tr style=\"text-align: right;\">\n",
              "      <th></th>\n",
              "      <th>Batch 1,Batch 2</th>\n",
              "    </tr>\n",
              "  </thead>\n",
              "  <tbody>\n",
              "    <tr>\n",
              "      <th>0</th>\n",
              "      <td>1.001000047,1</td>\n",
              "    </tr>\n",
              "    <tr>\n",
              "      <th>1</th>\n",
              "      <td>1.004999995,1.004999995</td>\n",
              "    </tr>\n",
              "    <tr>\n",
              "      <th>2</th>\n",
              "      <td>1.014999986,1.014999986</td>\n",
              "    </tr>\n",
              "    <tr>\n",
              "      <th>3</th>\n",
              "      <td>1.019999981,1.004999995</td>\n",
              "    </tr>\n",
              "    <tr>\n",
              "      <th>4</th>\n",
              "      <td>1.00999999,0.99000001</td>\n",
              "    </tr>\n",
              "    <tr>\n",
              "      <th>5</th>\n",
              "      <td>1.014999986,1.004999995</td>\n",
              "    </tr>\n",
              "    <tr>\n",
              "      <th>6</th>\n",
              "      <td>1,1.014999986</td>\n",
              "    </tr>\n",
              "    <tr>\n",
              "      <th>7</th>\n",
              "      <td>1.00999999,1</td>\n",
              "    </tr>\n",
              "    <tr>\n",
              "      <th>8</th>\n",
              "      <td>0.999000013,1.004999995</td>\n",
              "    </tr>\n",
              "    <tr>\n",
              "      <th>9</th>\n",
              "      <td>1.00999999,0.99000001</td>\n",
              "    </tr>\n",
              "    <tr>\n",
              "      <th>10</th>\n",
              "      <td>0.995999992,0.996999979</td>\n",
              "    </tr>\n",
              "    <tr>\n",
              "      <th>11</th>\n",
              "      <td>1,1</td>\n",
              "    </tr>\n",
              "    <tr>\n",
              "      <th>12</th>\n",
              "      <td>1.003999949,1.001999974</td>\n",
              "    </tr>\n",
              "    <tr>\n",
              "      <th>13</th>\n",
              "      <td>0.995000005,1.001000047</td>\n",
              "    </tr>\n",
              "    <tr>\n",
              "      <th>14</th>\n",
              "      <td>1.006000042,1.006000042</td>\n",
              "    </tr>\n",
              "    <tr>\n",
              "      <th>15</th>\n",
              "      <td>0.985000014,1.004999995</td>\n",
              "    </tr>\n",
              "    <tr>\n",
              "      <th>16</th>\n",
              "      <td>1.00999999,1.00999999</td>\n",
              "    </tr>\n",
              "    <tr>\n",
              "      <th>17</th>\n",
              "      <td>1,1.014999986</td>\n",
              "    </tr>\n",
              "    <tr>\n",
              "      <th>18</th>\n",
              "      <td>0.995000005,1</td>\n",
              "    </tr>\n",
              "    <tr>\n",
              "      <th>19</th>\n",
              "      <td>1,1</td>\n",
              "    </tr>\n",
              "    <tr>\n",
              "      <th>20</th>\n",
              "      <td>1,1.014999986</td>\n",
              "    </tr>\n",
              "    <tr>\n",
              "      <th>21</th>\n",
              "      <td>0.999000013,0.995000005</td>\n",
              "    </tr>\n",
              "    <tr>\n",
              "      <th>22</th>\n",
              "      <td>1.014000058,1.004999995</td>\n",
              "    </tr>\n",
              "    <tr>\n",
              "      <th>23</th>\n",
              "      <td>1.008999944,1.00999999</td>\n",
              "    </tr>\n",
              "    <tr>\n",
              "      <th>24</th>\n",
              "      <td>1.004999995,1.00999999</td>\n",
              "    </tr>\n",
              "    <tr>\n",
              "      <th>25</th>\n",
              "      <td>1.024999976,1.006000042</td>\n",
              "    </tr>\n",
              "    <tr>\n",
              "      <th>26</th>\n",
              "      <td>1.003999949,0.999000013</td>\n",
              "    </tr>\n",
              "    <tr>\n",
              "      <th>27</th>\n",
              "      <td>1.003999949,1.006000042</td>\n",
              "    </tr>\n",
              "    <tr>\n",
              "      <th>28</th>\n",
              "      <td>0.999000013,1.004999995</td>\n",
              "    </tr>\n",
              "    <tr>\n",
              "      <th>29</th>\n",
              "      <td>1,1.001000047</td>\n",
              "    </tr>\n",
              "    <tr>\n",
              "      <th>30</th>\n",
              "      <td>1.014000058,1.006999969</td>\n",
              "    </tr>\n",
              "    <tr>\n",
              "      <th>31</th>\n",
              "      <td>1.008999944,0.995000005</td>\n",
              "    </tr>\n",
              "    <tr>\n",
              "      <th>32</th>\n",
              "      <td>0.994000018,1.006999969</td>\n",
              "    </tr>\n",
              "    <tr>\n",
              "      <th>33</th>\n",
              "      <td>1.008999944,0.999000013</td>\n",
              "    </tr>\n",
              "    <tr>\n",
              "      <th>34</th>\n",
              "      <td>0.999000013,1.00999999</td>\n",
              "    </tr>\n",
              "    <tr>\n",
              "      <th>35</th>\n",
              "      <td>1.003999949,0.990999997</td>\n",
              "    </tr>\n",
              "    <tr>\n",
              "      <th>36</th>\n",
              "      <td>1.008999944,0.995999992</td>\n",
              "    </tr>\n",
              "    <tr>\n",
              "      <th>37</th>\n",
              "      <td>0.989000022,1.006000042</td>\n",
              "    </tr>\n",
              "    <tr>\n",
              "      <th>38</th>\n",
              "      <td>1.003000021,1.019000053</td>\n",
              "    </tr>\n",
              "    <tr>\n",
              "      <th>39</th>\n",
              "      <td>1.008999944,1.006000042</td>\n",
              "    </tr>\n",
              "    <tr>\n",
              "      <th>40</th>\n",
              "      <td>0.995999992,1.004999995</td>\n",
              "    </tr>\n",
              "    <tr>\n",
              "      <th>41</th>\n",
              "      <td>0.995999992,1.004999995</td>\n",
              "    </tr>\n",
              "    <tr>\n",
              "      <th>42</th>\n",
              "      <td>1,1.001000047</td>\n",
              "    </tr>\n",
              "    <tr>\n",
              "      <th>43</th>\n",
              "      <td>1.001000047,1.001999974</td>\n",
              "    </tr>\n",
              "    <tr>\n",
              "      <th>44</th>\n",
              "      <td>1.001000047,1.01699996</td>\n",
              "    </tr>\n",
              "    <tr>\n",
              "      <th>45</th>\n",
              "      <td>1.001000047,0.999000013</td>\n",
              "    </tr>\n",
              "    <tr>\n",
              "      <th>46</th>\n",
              "      <td>0.995000005,0.992999971</td>\n",
              "    </tr>\n",
              "    <tr>\n",
              "      <th>47</th>\n",
              "      <td>1,1.001000047</td>\n",
              "    </tr>\n",
              "    <tr>\n",
              "      <th>48</th>\n",
              "      <td>1.00999999,1.016000032</td>\n",
              "    </tr>\n",
              "    <tr>\n",
              "      <th>49</th>\n",
              "      <td>0.994000018,0.99000001</td>\n",
              "    </tr>\n",
              "  </tbody>\n",
              "</table>\n",
              "</div>\n",
              "      <button class=\"colab-df-convert\" onclick=\"convertToInteractive('df-82cbd25c-ecd3-4691-98db-0a0c30ab2eab')\"\n",
              "              title=\"Convert this dataframe to an interactive table.\"\n",
              "              style=\"display:none;\">\n",
              "        \n",
              "  <svg xmlns=\"http://www.w3.org/2000/svg\" height=\"24px\"viewBox=\"0 0 24 24\"\n",
              "       width=\"24px\">\n",
              "    <path d=\"M0 0h24v24H0V0z\" fill=\"none\"/>\n",
              "    <path d=\"M18.56 5.44l.94 2.06.94-2.06 2.06-.94-2.06-.94-.94-2.06-.94 2.06-2.06.94zm-11 1L8.5 8.5l.94-2.06 2.06-.94-2.06-.94L8.5 2.5l-.94 2.06-2.06.94zm10 10l.94 2.06.94-2.06 2.06-.94-2.06-.94-.94-2.06-.94 2.06-2.06.94z\"/><path d=\"M17.41 7.96l-1.37-1.37c-.4-.4-.92-.59-1.43-.59-.52 0-1.04.2-1.43.59L10.3 9.45l-7.72 7.72c-.78.78-.78 2.05 0 2.83L4 21.41c.39.39.9.59 1.41.59.51 0 1.02-.2 1.41-.59l7.78-7.78 2.81-2.81c.8-.78.8-2.07 0-2.86zM5.41 20L4 18.59l7.72-7.72 1.47 1.35L5.41 20z\"/>\n",
              "  </svg>\n",
              "      </button>\n",
              "      \n",
              "  <style>\n",
              "    .colab-df-container {\n",
              "      display:flex;\n",
              "      flex-wrap:wrap;\n",
              "      gap: 12px;\n",
              "    }\n",
              "\n",
              "    .colab-df-convert {\n",
              "      background-color: #E8F0FE;\n",
              "      border: none;\n",
              "      border-radius: 50%;\n",
              "      cursor: pointer;\n",
              "      display: none;\n",
              "      fill: #1967D2;\n",
              "      height: 32px;\n",
              "      padding: 0 0 0 0;\n",
              "      width: 32px;\n",
              "    }\n",
              "\n",
              "    .colab-df-convert:hover {\n",
              "      background-color: #E2EBFA;\n",
              "      box-shadow: 0px 1px 2px rgba(60, 64, 67, 0.3), 0px 1px 3px 1px rgba(60, 64, 67, 0.15);\n",
              "      fill: #174EA6;\n",
              "    }\n",
              "\n",
              "    [theme=dark] .colab-df-convert {\n",
              "      background-color: #3B4455;\n",
              "      fill: #D2E3FC;\n",
              "    }\n",
              "\n",
              "    [theme=dark] .colab-df-convert:hover {\n",
              "      background-color: #434B5C;\n",
              "      box-shadow: 0px 1px 3px 1px rgba(0, 0, 0, 0.15);\n",
              "      filter: drop-shadow(0px 1px 2px rgba(0, 0, 0, 0.3));\n",
              "      fill: #FFFFFF;\n",
              "    }\n",
              "  </style>\n",
              "\n",
              "      <script>\n",
              "        const buttonEl =\n",
              "          document.querySelector('#df-82cbd25c-ecd3-4691-98db-0a0c30ab2eab button.colab-df-convert');\n",
              "        buttonEl.style.display =\n",
              "          google.colab.kernel.accessAllowed ? 'block' : 'none';\n",
              "\n",
              "        async function convertToInteractive(key) {\n",
              "          const element = document.querySelector('#df-82cbd25c-ecd3-4691-98db-0a0c30ab2eab');\n",
              "          const dataTable =\n",
              "            await google.colab.kernel.invokeFunction('convertToInteractive',\n",
              "                                                     [key], {});\n",
              "          if (!dataTable) return;\n",
              "\n",
              "          const docLinkHtml = 'Like what you see? Visit the ' +\n",
              "            '<a target=\"_blank\" href=https://colab.research.google.com/notebooks/data_table.ipynb>data table notebook</a>'\n",
              "            + ' to learn more about interactive tables.';\n",
              "          element.innerHTML = '';\n",
              "          dataTable['output_type'] = 'display_data';\n",
              "          await google.colab.output.renderOutput(dataTable, element);\n",
              "          const docLink = document.createElement('div');\n",
              "          docLink.innerHTML = docLinkHtml;\n",
              "          element.appendChild(docLink);\n",
              "        }\n",
              "      </script>\n",
              "    </div>\n",
              "  </div>\n",
              "  "
            ]
          },
          "metadata": {},
          "execution_count": 45
        }
      ]
    },
    {
      "cell_type": "code",
      "source": [
        "df = data1\n",
        "df.info()\n"
      ],
      "metadata": {
        "colab": {
          "base_uri": "https://localhost:8080/"
        },
        "id": "R-F0Gfjp5dlr",
        "outputId": "34fb416c-988f-4502-c1c5-e594286e1068"
      },
      "execution_count": 37,
      "outputs": [
        {
          "output_type": "stream",
          "name": "stdout",
          "text": [
            "<class 'pandas.core.frame.DataFrame'>\n",
            "RangeIndex: 50 entries, 0 to 49\n",
            "Data columns (total 2 columns):\n",
            " #   Column   Non-Null Count  Dtype  \n",
            "---  ------   --------------  -----  \n",
            " 0   Batch 1  50 non-null     float64\n",
            " 1   Batch 2  50 non-null     float64\n",
            "dtypes: float64(2)\n",
            "memory usage: 928.0 bytes\n"
          ]
        }
      ]
    },
    {
      "cell_type": "code",
      "source": [
        "H = [1.001,1.005,1.015,1.02,1.01,1.015,1,1.01,0.999,1.01,.996,1,1.004,.995,1.006,.985,1.01,1,.995,1,1,.999,1.014,1.009,1.005,1.025,1.004,1.004,.999,1,1.014,1.009,.994,1.009,.999,1.004,1.009,.989,1.003,1.009,.996,.996,1,\n",
        "     1.001,1.001,1.001,.995,1,1.01,.994]\n",
        "  \n",
        "hist, bin = np.histogram(H, bins = 10)\n",
        "figure, ax = plt.subplots()\n",
        "ax.hist(H, bin, cumulative = False)\n",
        "ax.set_xlabel('X')\n",
        "ax.set_ylabel('Batch 1 Frequency')\n",
        "plt.show()"
      ],
      "metadata": {
        "colab": {
          "base_uri": "https://localhost:8080/",
          "height": 279
        },
        "id": "nWEHkd2m5_Oz",
        "outputId": "13087446-fb30-4652-fed4-9a1dd0b1dbfb"
      },
      "execution_count": 38,
      "outputs": [
        {
          "output_type": "display_data",
          "data": {
            "text/plain": [
              "<Figure size 432x288 with 1 Axes>"
            ],
            "image/png": "[encoded data removed]"
          },
          "metadata": {
            "needs_background": "light"
          }
        }
      ]
    },
    {
      "cell_type": "code",
      "source": [
        "H = [1,1.005,1.015,1.005,.99,1.005,1.015,1,1.005,.99,.997,1,1.002,1.001,1.006,1.005,1.01,1.015,1,1,1.015,.995,1.005,1.01,1.01,1.006,.999,1.006,1.005,1.001,1.007,.995,1.007,.999,1.01,.991,.996,1.006,1.019,1.006,1.005,1.005,1.001,1.002,1.017,.999,.993,1.001,1.016,.99]\n",
        "hist, bin = np.histogram(H, bins = 10)\n",
        "figure, ax = plt.subplots()\n",
        "ax.hist(H, bin, cumulative = False)\n",
        "ax.set_xlabel('X')\n",
        "ax.set_ylabel('Frequency of Batch2')\n",
        "plt.show()"
      ],
      "metadata": {
        "colab": {
          "base_uri": "https://localhost:8080/",
          "height": 279
        },
        "id": "DeVWy5kB7GLb",
        "outputId": "88350252-8564-4a2d-f26f-ad7051ed8567"
      },
      "execution_count": 39,
      "outputs": [
        {
          "output_type": "display_data",
          "data": {
            "text/plain": [
              "<Figure size 432x288 with 1 Axes>"
            ],
            "image/png": "[encoded data removed]"
          },
          "metadata": {
            "needs_background": "light"
          }
        }
      ]
    },
    {
      "cell_type": "code",
      "source": [
        "plt.figure()\n",
        "plt.suptitle(\"Boxplot for Batch 1 & 2\")\n",
        "ax = plt.gca()\n",
        "\n",
        "data1.boxplot(showmeans=True)\n",
        "# Rotate x axis text values\n",
        "for tick in ax.get_xticklabels():\n",
        "    tick.set_rotation(30)"
      ],
      "metadata": {
        "colab": {
          "base_uri": "https://localhost:8080/",
          "height": 312
        },
        "id": "qfoaEavo9ldN",
        "outputId": "b8326034-5079-4077-a9a6-eadfcd519c6b"
      },
      "execution_count": 40,
      "outputs": [
        {
          "output_type": "display_data",
          "data": {
            "text/plain": [
              "<Figure size 432x288 with 1 Axes>"
            ],
            "image/png": "[encoded data removed]"
          },
          "metadata": {
            "needs_background": "light"
          }
        }
      ]
    },
    {
      "cell_type": "code",
      "source": [
        "data1 = pd.read_csv('BUSHING DIAMETER 2 BATCHES.csv')\n",
        "plt.plot(data1)"
      ],
      "metadata": {
        "colab": {
          "base_uri": "https://localhost:8080/",
          "height": 301
        },
        "id": "GvX0FGsz7N6H",
        "outputId": "6d87bfd8-2c8b-495b-d796-cbb34464f032"
      },
      "execution_count": 41,
      "outputs": [
        {
          "output_type": "execute_result",
          "data": {
            "text/plain": [
              "[<matplotlib.lines.Line2D at 0x7fe33b349550>,\n",
              " <matplotlib.lines.Line2D at 0x7fe33b349790>]"
            ]
          },
          "metadata": {},
          "execution_count": 41
        },
        {
          "output_type": "display_data",
          "data": {
            "text/plain": [
              "<Figure size 432x288 with 1 Axes>"
            ],
            "image/png": "[encoded data removed]"
          },
          "metadata": {
            "needs_background": "light"
          }
        }
      ]
    },
    {
      "cell_type": "code",
      "source": [
        "#Batch1\n",
        "from statsmodels.graphics.tsaplots import plot_acf\n",
        "X = [1.001,1.005,1.015,1.02,1.01,1.015,1,1.01,0.999,1.01,.996,1,1.004,.995,1.006,.985,1.01,1,.995,1,1,.999,1.014,1.009,1.005,1.025,1.004,1.004,.999,1,1.014,1.009,.994,1.009,.999,1.004,1.009,.989,1.003,1.009,.996,.996,1,1.001,1.001,1.001,.995,1,1.01,.994]\n",
        "plot_acf(X, lags=40)"
      ],
      "metadata": {
        "colab": {
          "base_uri": "https://localhost:8080/",
          "height": 545
        },
        "id": "px_Awm5g9T_o",
        "outputId": "443df9a2-9a4b-4aea-db43-24539d621253"
      },
      "execution_count": 42,
      "outputs": [
        {
          "output_type": "execute_result",
          "data": {
            "text/plain": [
              "<Figure size 432x288 with 1 Axes>"
            ],
            "image/png": "[encoded data removed]"
          },
          "metadata": {},
          "execution_count": 42
        },
        {
          "output_type": "display_data",
          "data": {
            "text/plain": [
              "<Figure size 432x288 with 1 Axes>"
            ],
            "image/png": "[encoded data removed]"
          },
          "metadata": {
            "needs_background": "light"
          }
        }
      ]
    },
    {
      "cell_type": "code",
      "source": [
        "#Batch 2\n",
        "from statsmodels.graphics.tsaplots import plot_acf\n",
        "Y = [1,1.005,1.015,1.005,.99,1.005,1.015,1,1.005,.99,.997,1,1.002,1.001,1.006,1.005,1.01,1.015,1,1,1.015,.995,1.005,1.01,1.01,1.006,.999,1.006,1.005,1.001,1.007,.995,1.007,.999,1.01,.991,.996,1.006,1.019,1.006,1.005,1.005,1.001,1.002,1.017,.999,.993,1.001,1.016,.99]\n",
        "plot_acf(Y, lags=40)"
      ],
      "metadata": {
        "colab": {
          "base_uri": "https://localhost:8080/",
          "height": 545
        },
        "id": "0hAEBF3F-KKR",
        "outputId": "87f56dfd-940d-4ff1-b29a-cda5e4bc9c1c"
      },
      "execution_count": 43,
      "outputs": [
        {
          "output_type": "execute_result",
          "data": {
            "text/plain": [
              "<Figure size 432x288 with 1 Axes>"
            ],
            "image/png": "[encoded data removed]"
          },
          "metadata": {},
          "execution_count": 43
        },
        {
          "output_type": "display_data",
          "data": {
            "text/plain": [
              "<Figure size 432x288 with 1 Axes>"
            ],
            "image/png": "[encoded data removed]"
          },
          "metadata": {
            "needs_background": "light"
          }
        }
      ]
    }
  ]
}