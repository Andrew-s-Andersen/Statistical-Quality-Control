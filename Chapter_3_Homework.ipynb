{
  "nbformat": 4,
  "nbformat_minor": 0,
  "metadata": {
    "colab": {
      "provenance": [],
      "collapsed_sections": []
    },
    "kernelspec": {
      "name": "python3",
      "display_name": "Python 3"
    },
    "language_info": {
      "name": "python"
    }
  },
  "cells": [
    {
      "cell_type": "code",
      "execution_count": 11,
      "metadata": {
        "colab": {
          "base_uri": "https://localhost:8080/"
        },
        "id": "WacClKkwxQy1",
        "outputId": "bc8eeacd-4ef0-4969-86df-2e84588161b3"
      },
      "outputs": [
        {
          "output_type": "execute_result",
          "data": {
            "text/plain": [
              "50.001875"
            ]
          },
          "metadata": {},
          "execution_count": 11
        }
      ],
      "source": [
        "# 3.2a\n",
        "x1 = [50.001, 50.002, 49.998, 50.006, 50.005, 49.996, 50.003, 50.004]\n",
        "Mean = sum(x1)/8\n",
        "Mean\n"
      ]
    },
    {
      "cell_type": "code",
      "source": [
        "import statistics\n",
        "\n",
        "#3.2b \n",
        "\n",
        "x1 = [50.001, 50.002, 49.998, 50.006, 50.005, 49.996, 50.003, 50.004]\n",
        "std_ = statistics.stdev(x1)\n",
        "std_"
      ],
      "metadata": {
        "colab": {
          "base_uri": "https://localhost:8080/"
        },
        "id": "ALGwVbb85D7f",
        "outputId": "556c5201-c4f3-4303-bca6-01b7c4eb07e1"
      },
      "execution_count": 10,
      "outputs": [
        {
          "output_type": "execute_result",
          "data": {
            "text/plain": [
              "0.0034408263127171375"
            ]
          },
          "metadata": {},
          "execution_count": 10
        }
      ]
    },
    {
      "cell_type": "code",
      "source": [
        "import math\n",
        "import statistics\n",
        "import numpy as np\n",
        "import scipy.stats\n",
        "import pandas as pd\n",
        "from matplotlib import pyplot as plt\n",
        "\n",
        "# 3.8a, data from book \n",
        "\n",
        "x1 = [127, 125, 131, 124, 129, 121, 142, 151, 160, 125, \n",
        "      124, 123, 120, 119, 128, 133, 137, 124, 142, 123, \n",
        "      121, 136, 140, 137, 125, 124, 128, 129, 130, 122, \n",
        "      118, 131, 125, 133, 141, 125, 140, 131, 129, 126]\n",
        "mean_ = statistics.mean(x1)\n",
        "mean_ \n",
        "std_ = statistics.stdev(x1)\n",
        "std_\n",
        "\n",
        "\n",
        "\n",
        "\n",
        "\n"
      ],
      "metadata": {
        "colab": {
          "base_uri": "https://localhost:8080/"
        },
        "id": "UelZFZrj6a5P",
        "outputId": "96b92063-9b2e-401e-f0d3-f873b683157e"
      },
      "execution_count": 2,
      "outputs": [
        {
          "output_type": "execute_result",
          "data": {
            "text/plain": [
              "8.91408421745596"
            ]
          },
          "metadata": {},
          "execution_count": 2
        }
      ]
    },
    {
      "cell_type": "code",
      "source": [
        "import math\n",
        "import statistics\n",
        "import numpy as np\n",
        "import scipy.stats\n",
        "import pandas as pd\n",
        "from matplotlib import pyplot as plt\n",
        "\n",
        "#3.8b\n",
        "\n",
        "x1 = [127, 125, 131, 124, 129, 121, 142, 151, 160, 125, \n",
        "      124, 123, 120, 119, 128, 133, 137, 124, 142, 123, \n",
        "      121, 136, 140, 137, 125, 124, 128, 129, 130, 122, \n",
        "      118, 131, 125, 133, 141, 125, 140, 131, 129, 126]\n",
        "\n",
        "hist, bin_edges = np.histogram(x1, bins = 10)\n",
        "fig, ax = plt.subplots()\n",
        "ax.hist(x1, bin_edges, cumulative=False)\n",
        "ax.set_xlabel('x')\n",
        "ax.set_ylabel('Frequency')\n",
        "plt.show()\n",
        "\n"
      ],
      "metadata": {
        "colab": {
          "base_uri": "https://localhost:8080/",
          "height": 279
        },
        "id": "DTw07Ukq_Ao9",
        "outputId": "a8e73dbe-6df7-4770-95dc-f5e3b3fd805b"
      },
      "execution_count": 1,
      "outputs": [
        {
          "output_type": "display_data",
          "data": {
            "text/plain": [
              "<Figure size 432x288 with 1 Axes>"
            ],
            "image/png": "[encoded data removed]"
          },
          "metadata": {
            "needs_background": "light"
          }
        }
      ]
    },
    {
      "cell_type": "code",
      "source": [
        "import math\n",
        "import statistics\n",
        "import numpy as np\n",
        "import scipy.stats\n",
        "import pandas as pd\n",
        "from matplotlib import pyplot as plt\n",
        "\n",
        "\n",
        "#3.8c\n",
        "\n",
        "x1 = [127, 125, 131, 124, 129, 121, 142, 151, 160, 125, \n",
        "      124, 123, 120, 119, 128, 133, 137, 124, 142, 123, \n",
        "      121, 136, 140, 137, 125, 124, 128, 129, 130, 122, \n",
        "      118, 131, 125, 133, 141, 125, 140, 131, 129, 126]\n",
        "\n",
        "plt.rcParams[\"figure.figsize\"] = [10, 5]\n",
        "plt.rcParams[\"figure.autolayout\"] = True\n",
        "\n",
        "x = np.linspace(0.1, 10, 25)\n",
        "y = np.exp(np.sin(x))\n",
        "\n",
        "markerline, stemlines, baseline = plt.stem(x, y, linefmt='grey', markerfmt='*', bottom=1.1)\n",
        "\n",
        "markerline.set_markerfacecolor('red')\n",
        "\n",
        "plt.show()\n",
        "\n",
        "\n"
      ],
      "metadata": {
        "id": "HLkfRYYp_jBu"
      },
      "execution_count": null,
      "outputs": []
    },
    {
      "cell_type": "code",
      "source": [
        "import math\n",
        "import statistics\n",
        "import numpy as np\n",
        "import scipy.stats\n",
        "import pandas as pd\n",
        "from matplotlib import pyplot as plt\n",
        "\n",
        "\n",
        "#3.8d\n",
        "\n",
        "x1 = [127, 125, 131, 124, 129, 121, 142, 151, 160, 125, \n",
        "      124, 123, 120, 119, 128, 133, 137, 124, 142, 123, \n",
        "      121, 136, 140, 137, 125, 124, 128, 129, 130, 122, \n",
        "      118, 131, 125, 133, 141, 125, 140, 131, 129, 126]\n",
        "print(statistics.median(x1))\n",
        "Q1 = np.percentile(x1, 25) #Q1\n",
        "Q3 = np.percentile(x1, 75) #Q3\n",
        "print(Q1)\n",
        "print(Q3)\n"
      ],
      "metadata": {
        "colab": {
          "base_uri": "https://localhost:8080/"
        },
        "id": "E7ehfBS4C-lJ",
        "outputId": "f81bb938-230f-4f9c-cb10-562d2d2a607d"
      },
      "execution_count": 22,
      "outputs": [
        {
          "output_type": "stream",
          "name": "stdout",
          "text": [
            "128.0\n",
            "124.0\n",
            "133.75\n"
          ]
        }
      ]
    },
    {
      "cell_type": "markdown",
      "source": [],
      "metadata": {
        "id": "uY2dj3lqDCIv"
      }
    }
  ]
}